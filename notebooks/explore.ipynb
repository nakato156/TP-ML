{
 "cells": [
  {
   "cell_type": "code",
   "execution_count": 2,
   "id": "aa535e17",
   "metadata": {},
   "outputs": [],
   "source": [
    "import pandas as pd"
   ]
  },
  {
   "cell_type": "code",
   "execution_count": 3,
   "id": "c5e15d68",
   "metadata": {},
   "outputs": [
    {
     "data": {
      "text/html": [
       "<div>\n",
       "<style scoped>\n",
       "    .dataframe tbody tr th:only-of-type {\n",
       "        vertical-align: middle;\n",
       "    }\n",
       "\n",
       "    .dataframe tbody tr th {\n",
       "        vertical-align: top;\n",
       "    }\n",
       "\n",
       "    .dataframe thead th {\n",
       "        text-align: right;\n",
       "    }\n",
       "</style>\n",
       "<table border=\"1\" class=\"dataframe\">\n",
       "  <thead>\n",
       "    <tr style=\"text-align: right;\">\n",
       "      <th></th>\n",
       "      <th>TransactionID</th>\n",
       "      <th>Time</th>\n",
       "      <th>Amount</th>\n",
       "      <th>CardholderName</th>\n",
       "      <th>MerchantName</th>\n",
       "      <th>MCC</th>\n",
       "      <th>Location</th>\n",
       "      <th>Device</th>\n",
       "      <th>IPAddress</th>\n",
       "      <th>TransactionSpeed</th>\n",
       "      <th>Fraud</th>\n",
       "    </tr>\n",
       "  </thead>\n",
       "  <tbody>\n",
       "    <tr>\n",
       "      <th>0</th>\n",
       "      <td>1</td>\n",
       "      <td>2025-03-09 06:23:57</td>\n",
       "      <td>83.54</td>\n",
       "      <td>Sarah Murray</td>\n",
       "      <td>Oconnor-Hughes</td>\n",
       "      <td>5411</td>\n",
       "      <td>Longtown</td>\n",
       "      <td>Android</td>\n",
       "      <td>102.247.49.50</td>\n",
       "      <td>38.17</td>\n",
       "      <td>0</td>\n",
       "    </tr>\n",
       "    <tr>\n",
       "      <th>1</th>\n",
       "      <td>2</td>\n",
       "      <td>2025-02-14 05:17:36</td>\n",
       "      <td>805.88</td>\n",
       "      <td>Alexander Brooks</td>\n",
       "      <td>Reed PLC</td>\n",
       "      <td>5261</td>\n",
       "      <td>Woodsland</td>\n",
       "      <td>POS</td>\n",
       "      <td>153.157.50.7</td>\n",
       "      <td>49.84</td>\n",
       "      <td>0</td>\n",
       "    </tr>\n",
       "    <tr>\n",
       "      <th>2</th>\n",
       "      <td>3</td>\n",
       "      <td>2024-05-03 15:28:52</td>\n",
       "      <td>450.49</td>\n",
       "      <td>Harold Perez</td>\n",
       "      <td>Berry LLC</td>\n",
       "      <td>5261</td>\n",
       "      <td>Jessicatown</td>\n",
       "      <td>iOS</td>\n",
       "      <td>151.174.154.123</td>\n",
       "      <td>48.79</td>\n",
       "      <td>0</td>\n",
       "    </tr>\n",
       "    <tr>\n",
       "      <th>3</th>\n",
       "      <td>4</td>\n",
       "      <td>2024-05-03 09:01:14</td>\n",
       "      <td>782.39</td>\n",
       "      <td>Rebecca Davis</td>\n",
       "      <td>Berg Inc</td>\n",
       "      <td>5968</td>\n",
       "      <td>North Krystalburgh</td>\n",
       "      <td>Android</td>\n",
       "      <td>130.70.79.149</td>\n",
       "      <td>8.71</td>\n",
       "      <td>0</td>\n",
       "    </tr>\n",
       "    <tr>\n",
       "      <th>4</th>\n",
       "      <td>5</td>\n",
       "      <td>2025-04-24 17:24:39</td>\n",
       "      <td>713.02</td>\n",
       "      <td>Lauren Benson DDS</td>\n",
       "      <td>King-Gaines</td>\n",
       "      <td>5968</td>\n",
       "      <td>East Danielletown</td>\n",
       "      <td>Android</td>\n",
       "      <td>195.136.16.190</td>\n",
       "      <td>17.16</td>\n",
       "      <td>0</td>\n",
       "    </tr>\n",
       "  </tbody>\n",
       "</table>\n",
       "</div>"
      ],
      "text/plain": [
       "   TransactionID                 Time  Amount     CardholderName  \\\n",
       "0              1  2025-03-09 06:23:57   83.54       Sarah Murray   \n",
       "1              2  2025-02-14 05:17:36  805.88   Alexander Brooks   \n",
       "2              3  2024-05-03 15:28:52  450.49       Harold Perez   \n",
       "3              4  2024-05-03 09:01:14  782.39      Rebecca Davis   \n",
       "4              5  2025-04-24 17:24:39  713.02  Lauren Benson DDS   \n",
       "\n",
       "     MerchantName   MCC            Location   Device        IPAddress  \\\n",
       "0  Oconnor-Hughes  5411            Longtown  Android    102.247.49.50   \n",
       "1        Reed PLC  5261           Woodsland      POS     153.157.50.7   \n",
       "2       Berry LLC  5261         Jessicatown      iOS  151.174.154.123   \n",
       "3        Berg Inc  5968  North Krystalburgh  Android    130.70.79.149   \n",
       "4     King-Gaines  5968   East Danielletown  Android   195.136.16.190   \n",
       "\n",
       "   TransactionSpeed  Fraud  \n",
       "0             38.17      0  \n",
       "1             49.84      0  \n",
       "2             48.79      0  \n",
       "3              8.71      0  \n",
       "4             17.16      0  "
      ]
     },
     "execution_count": 3,
     "metadata": {},
     "output_type": "execute_result"
    }
   ],
   "source": [
    "df = pd.read_csv('../data/raw/credit_card_transactions.csv')\n",
    "df.head()"
   ]
  },
  {
   "cell_type": "code",
   "execution_count": 4,
   "id": "1fe8d1f2",
   "metadata": {},
   "outputs": [
    {
     "name": "stdout",
     "output_type": "stream",
     "text": [
      "Fraud True  192\n",
      "Fraud False  9808\n"
     ]
    }
   ],
   "source": [
    "print(\"Fraud True \", len(df[df.Fraud == 1]))\n",
    "print(\"Fraud False \", len(df[df.Fraud == 0]))"
   ]
  },
  {
   "cell_type": "code",
   "execution_count": 5,
   "id": "2478fedf",
   "metadata": {},
   "outputs": [
    {
     "data": {
      "text/html": [
       "<div>\n",
       "<style scoped>\n",
       "    .dataframe tbody tr th:only-of-type {\n",
       "        vertical-align: middle;\n",
       "    }\n",
       "\n",
       "    .dataframe tbody tr th {\n",
       "        vertical-align: top;\n",
       "    }\n",
       "\n",
       "    .dataframe thead th {\n",
       "        text-align: right;\n",
       "    }\n",
       "</style>\n",
       "<table border=\"1\" class=\"dataframe\">\n",
       "  <thead>\n",
       "    <tr style=\"text-align: right;\">\n",
       "      <th></th>\n",
       "      <th>TransactionID</th>\n",
       "      <th>Amount</th>\n",
       "      <th>MCC</th>\n",
       "      <th>TransactionSpeed</th>\n",
       "      <th>Fraud</th>\n",
       "    </tr>\n",
       "  </thead>\n",
       "  <tbody>\n",
       "    <tr>\n",
       "      <th>count</th>\n",
       "      <td>10000.00000</td>\n",
       "      <td>10000.000000</td>\n",
       "      <td>10000.000000</td>\n",
       "      <td>10000.000000</td>\n",
       "      <td>10000.000000</td>\n",
       "    </tr>\n",
       "    <tr>\n",
       "      <th>mean</th>\n",
       "      <td>5000.50000</td>\n",
       "      <td>547.347491</td>\n",
       "      <td>5950.102900</td>\n",
       "      <td>30.738446</td>\n",
       "      <td>0.019200</td>\n",
       "    </tr>\n",
       "    <tr>\n",
       "      <th>std</th>\n",
       "      <td>2886.89568</td>\n",
       "      <td>460.047329</td>\n",
       "      <td>664.526287</td>\n",
       "      <td>19.092345</td>\n",
       "      <td>0.137234</td>\n",
       "    </tr>\n",
       "    <tr>\n",
       "      <th>min</th>\n",
       "      <td>1.00000</td>\n",
       "      <td>10.090000</td>\n",
       "      <td>5261.000000</td>\n",
       "      <td>0.110000</td>\n",
       "      <td>0.000000</td>\n",
       "    </tr>\n",
       "    <tr>\n",
       "      <th>25%</th>\n",
       "      <td>2500.75000</td>\n",
       "      <td>263.222500</td>\n",
       "      <td>5411.000000</td>\n",
       "      <td>14.910000</td>\n",
       "      <td>0.000000</td>\n",
       "    </tr>\n",
       "    <tr>\n",
       "      <th>50%</th>\n",
       "      <td>5000.50000</td>\n",
       "      <td>512.240000</td>\n",
       "      <td>5812.000000</td>\n",
       "      <td>29.655000</td>\n",
       "      <td>0.000000</td>\n",
       "    </tr>\n",
       "    <tr>\n",
       "      <th>75%</th>\n",
       "      <td>7500.25000</td>\n",
       "      <td>759.935000</td>\n",
       "      <td>5968.000000</td>\n",
       "      <td>45.270000</td>\n",
       "      <td>0.000000</td>\n",
       "    </tr>\n",
       "    <tr>\n",
       "      <th>max</th>\n",
       "      <td>10000.00000</td>\n",
       "      <td>4988.070000</td>\n",
       "      <td>7299.000000</td>\n",
       "      <td>119.860000</td>\n",
       "      <td>1.000000</td>\n",
       "    </tr>\n",
       "  </tbody>\n",
       "</table>\n",
       "</div>"
      ],
      "text/plain": [
       "       TransactionID        Amount           MCC  TransactionSpeed  \\\n",
       "count    10000.00000  10000.000000  10000.000000      10000.000000   \n",
       "mean      5000.50000    547.347491   5950.102900         30.738446   \n",
       "std       2886.89568    460.047329    664.526287         19.092345   \n",
       "min          1.00000     10.090000   5261.000000          0.110000   \n",
       "25%       2500.75000    263.222500   5411.000000         14.910000   \n",
       "50%       5000.50000    512.240000   5812.000000         29.655000   \n",
       "75%       7500.25000    759.935000   5968.000000         45.270000   \n",
       "max      10000.00000   4988.070000   7299.000000        119.860000   \n",
       "\n",
       "              Fraud  \n",
       "count  10000.000000  \n",
       "mean       0.019200  \n",
       "std        0.137234  \n",
       "min        0.000000  \n",
       "25%        0.000000  \n",
       "50%        0.000000  \n",
       "75%        0.000000  \n",
       "max        1.000000  "
      ]
     },
     "execution_count": 5,
     "metadata": {},
     "output_type": "execute_result"
    }
   ],
   "source": [
    "df.describe()"
   ]
  },
  {
   "cell_type": "code",
   "execution_count": 6,
   "id": "4855b88d",
   "metadata": {},
   "outputs": [
    {
     "data": {
      "text/plain": [
       "TransactionID       0\n",
       "Time                0\n",
       "Amount              0\n",
       "CardholderName      0\n",
       "MerchantName        0\n",
       "MCC                 0\n",
       "Location            0\n",
       "Device              0\n",
       "IPAddress           0\n",
       "TransactionSpeed    0\n",
       "Fraud               0\n",
       "dtype: int64"
      ]
     },
     "execution_count": 6,
     "metadata": {},
     "output_type": "execute_result"
    }
   ],
   "source": [
    "df.isnull().sum()"
   ]
  },
  {
   "cell_type": "code",
   "execution_count": 7,
   "id": "aa0db4e8",
   "metadata": {},
   "outputs": [
    {
     "data": {
      "text/plain": [
       "TransactionID       0\n",
       "Time                0\n",
       "Amount              0\n",
       "CardholderName      0\n",
       "MerchantName        0\n",
       "MCC                 0\n",
       "Location            0\n",
       "Device              0\n",
       "IPAddress           0\n",
       "TransactionSpeed    0\n",
       "Fraud               0\n",
       "dtype: int64"
      ]
     },
     "execution_count": 7,
     "metadata": {},
     "output_type": "execute_result"
    }
   ],
   "source": [
    "df.isna().sum()"
   ]
  },
  {
   "cell_type": "code",
   "execution_count": 42,
   "id": "a40568a7",
   "metadata": {},
   "outputs": [
    {
     "data": {
      "text/plain": [
       "array([5411, 5261, 5968, 5812, 5942, 7299])"
      ]
     },
     "execution_count": 42,
     "metadata": {},
     "output_type": "execute_result"
    }
   ],
   "source": [
    "df[\"MCC\"].unique()"
   ]
  },
  {
   "cell_type": "code",
   "execution_count": 9,
   "id": "b6b43704",
   "metadata": {},
   "outputs": [
    {
     "name": "stdout",
     "output_type": "stream",
     "text": [
      "150\n"
     ]
    }
   ],
   "source": [
    "Q1, Q3 = df['Amount'].quantile([.25, .75])\n",
    "IQR = Q3 - Q1\n",
    "outliers = df[df['Amount'] > Q3 + 1.5*IQR]\n",
    "print(len(outliers))"
   ]
  },
  {
   "cell_type": "code",
   "execution_count": 44,
   "id": "2f77993d",
   "metadata": {},
   "outputs": [
    {
     "data": {
      "image/png": "[encoded data removed]",
      "text/plain": [
       "<Figure size 1000x800 with 1 Axes>"
      ]
     },
     "metadata": {},
     "output_type": "display_data"
    }
   ],
   "source": [
    "df[['TransactionSpeed']].boxplot(figsize=(10,8))\n",
    "plt.pyplot.show()"
   ]
  },
  {
   "cell_type": "code",
   "execution_count": 45,
   "id": "b0440457",
   "metadata": {},
   "outputs": [
    {
     "name": "stdout",
     "output_type": "stream",
     "text": [
      "99\n"
     ]
    }
   ],
   "source": [
    "Q1, Q3 = df['TransactionSpeed'].quantile([.25, .75])\n",
    "IQR = Q3 - Q1\n",
    "outliers = df[df['TransactionSpeed'] > Q3 + 1.5*IQR]\n",
    "print(len(outliers))"
   ]
  },
  {
   "cell_type": "code",
   "execution_count": 57,
   "id": "2c9f5db1",
   "metadata": {},
   "outputs": [
    {
     "data": {
      "image/png": "[encoded data removed]",
      "text/plain": [
       "<Figure size 1000x800 with 1 Axes>"
      ]
     },
     "metadata": {},
     "output_type": "display_data"
    }
   ],
   "source": [
    "df[['Fraud']].value_counts().plot(kind='bar',figsize=(10,8))\n",
    "plt.pyplot.show()"
   ]
  },
  {
   "cell_type": "code",
   "execution_count": 51,
   "id": "a290f3ab",
   "metadata": {},
   "outputs": [
    {
     "data": {
      "text/plain": [
       "Fraud\n",
       "0        9808\n",
       "1         192\n",
       "Name: count, dtype: int64"
      ]
     },
     "execution_count": 51,
     "metadata": {},
     "output_type": "execute_result"
    }
   ],
   "source": [
    "df[['Fraud']].value_counts()"
   ]
  }
 ],
 "metadata": {
  "kernelspec": {
   "display_name": "env",
   "language": "python",
   "name": "python3"
  },
  "language_info": {
   "codemirror_mode": {
    "name": "ipython",
    "version": 3
   },
   "file_extension": ".py",
   "mimetype": "text/x-python",
   "name": "python",
   "nbconvert_exporter": "python",
   "pygments_lexer": "ipython3",
   "version": "3.13.3"
  }
 },
 "nbformat": 4,
 "nbformat_minor": 5
}
