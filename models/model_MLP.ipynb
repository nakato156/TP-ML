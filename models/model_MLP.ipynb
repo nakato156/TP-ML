{
 "cells": [
  {
   "cell_type": "markdown",
   "metadata": {},
   "source": [
    "# Importamos librerias a usar"
   ]
  },
  {
   "cell_type": "code",
   "execution_count": 1,
   "metadata": {},
   "outputs": [],
   "source": [
    "import torch\n",
    "import torch.nn as nn\n",
    "import pandas as pd\n",
    "import numpy as np\n",
    "\n",
    "import matplotlib.pyplot as plt\n",
    "from sklearn.model_selection import train_test_split\n",
    "from sklearn.metrics import classification_report, confusion_matrix\n",
    "from sklearn.metrics import roc_curve, roc_auc_score"
   ]
  },
  {
   "cell_type": "markdown",
   "metadata": {},
   "source": [
    "# Cargamos y dividimos nuestra data prepocesada"
   ]
  },
  {
   "cell_type": "code",
   "execution_count": 2,
   "metadata": {},
   "outputs": [],
   "source": [
    "df= pd.read_csv('../data/process/data.csv')"
   ]
  },
  {
   "cell_type": "code",
   "execution_count": 3,
   "metadata": {},
   "outputs": [],
   "source": [
    "X = df.drop(columns=['Fraud'])\n",
    "y = df['Fraud']"
   ]
  },
  {
   "cell_type": "code",
   "execution_count": 4,
   "metadata": {},
   "outputs": [],
   "source": [
    "train_ratio = 0.70\n",
    "test_ratio = 0.15\n",
    "validation_ratio = 0.15"
   ]
  },
  {
   "cell_type": "code",
   "execution_count": 5,
   "metadata": {},
   "outputs": [],
   "source": [
    "X_train, X_test, y_train, y_test = train_test_split(X, y, test_size=test_ratio, random_state=42, stratify=y)\n",
    "\n",
    "X_train, X_valid, y_train, y_valid = train_test_split(X_train, y_train, test_size=validation_ratio/(train_ratio+test_ratio), random_state=42, stratify=y_train)"
   ]
  },
  {
   "cell_type": "code",
   "execution_count": 6,
   "metadata": {},
   "outputs": [
    {
     "name": "stdout",
     "output_type": "stream",
     "text": [
      "(7000, 8)\n",
      "(1500, 8)\n",
      "(1500, 8)\n"
     ]
    }
   ],
   "source": [
    "print(X_train.shape)\n",
    "print(X_test.shape)\n",
    "print(X_valid.shape)"
   ]
  },
  {
   "cell_type": "markdown",
   "metadata": {},
   "source": [
    "# Construimos modelo MLP del tipo AutoEncoder"
   ]
  },
  {
   "cell_type": "code",
   "execution_count": 7,
   "metadata": {},
   "outputs": [],
   "source": [
    "class AutoEncoder(nn.Module):\n",
    "    def __init__(self, input_dim:int, hidden_dim:int):\n",
    "        assert input_dim > 0, \"Input dimension must be greater than 0\"\n",
    "        assert hidden_dim > 0, \"Hidden dimension must be greater than 0\"\n",
    "\n",
    "        super(AutoEncoder, self).__init__()\n",
    "        self.encoder = nn.Sequential(\n",
    "            nn.Linear(input_dim, hidden_dim),\n",
    "            nn.ReLU(),\n",
    "            nn.Linear(hidden_dim, hidden_dim // 2),\n",
    "            nn.ReLU(),\n",
    "        )\n",
    "\n",
    "        self.decoder = nn.Sequential(\n",
    "            nn.Linear(hidden_dim // 2, hidden_dim),\n",
    "            nn.ReLU(),\n",
    "            nn.Linear(hidden_dim, input_dim)\n",
    "        )\n",
    "\n",
    "        self.out = nn.Sigmoid()\n",
    "\n",
    "    def forward(self, x:torch.Tensor) -> torch.Tensor:\n",
    "        x = self.encoder(x)\n",
    "        x = self.decoder(x)\n",
    "        x = self.out(x)\n",
    "        return x\n"
   ]
  },
  {
   "cell_type": "code",
   "execution_count": 8,
   "metadata": {},
   "outputs": [],
   "source": [
    "features_names = [\"Amount\", \"MCC_5261\",\"MCC_5411\",\"MCC_5812\",\"MCC_5942\",\"MCC_5968\",\"MCC_7299\", \"TransactionSpeed\"]"
   ]
  },
  {
   "cell_type": "code",
   "execution_count": 9,
   "metadata": {},
   "outputs": [],
   "source": [
    "def train_ae_model(data: pd.DataFrame, num_epochs=100, batch_size=32, hidden_dim=64):\n",
    "    features = data.loc[:, features_names]\n",
    "    model = AutoEncoder(input_dim=len(features_names), hidden_dim=hidden_dim)\n",
    "\n",
    "    model.train()\n",
    "    optimizer = torch.optim.Adam(model.parameters(), lr=0.001)\n",
    "    criterion = nn.MSELoss()\n",
    "    \n",
    "    dataset = torch.utils.data.TensorDataset(torch.tensor(features.values, dtype=torch.float32))\n",
    "    dataloader = torch.utils.data.DataLoader(dataset, batch_size=batch_size, shuffle=True)\n",
    "    \n",
    "    for epoch in range(num_epochs):\n",
    "        for batch in dataloader:\n",
    "            optimizer.zero_grad()\n",
    "            outputs = model(batch[0])\n",
    "            loss = criterion(outputs, batch[0])\n",
    "            loss.backward()\n",
    "            optimizer.step()\n",
    "        print(f\"Epoch [{epoch+1}/{num_epochs}], Loss: {loss.item():.4f}\")\n",
    "    return model"
   ]
  },
  {
   "cell_type": "markdown",
   "metadata": {},
   "source": [
    "# Entrenamiento"
   ]
  },
  {
   "cell_type": "code",
   "execution_count": 10,
   "metadata": {},
   "outputs": [
    {
     "name": "stdout",
     "output_type": "stream",
     "text": [
      "Epoch [1/100], Loss: 0.2539\n",
      "Epoch [2/100], Loss: 0.1874\n",
      "Epoch [3/100], Loss: 0.1287\n",
      "Epoch [4/100], Loss: 0.1871\n",
      "Epoch [5/100], Loss: 0.2004\n",
      "Epoch [6/100], Loss: 0.1907\n",
      "Epoch [7/100], Loss: 0.2987\n",
      "Epoch [8/100], Loss: 0.1227\n",
      "Epoch [9/100], Loss: 0.0505\n",
      "Epoch [10/100], Loss: 0.1416\n",
      "Epoch [11/100], Loss: 0.1989\n",
      "Epoch [12/100], Loss: 0.1592\n",
      "Epoch [13/100], Loss: 0.1611\n",
      "Epoch [14/100], Loss: 0.2296\n",
      "Epoch [15/100], Loss: 0.2925\n",
      "Epoch [16/100], Loss: 0.2029\n",
      "Epoch [17/100], Loss: 0.0630\n",
      "Epoch [18/100], Loss: 0.2273\n",
      "Epoch [19/100], Loss: 0.1813\n",
      "Epoch [20/100], Loss: 0.1435\n",
      "Epoch [21/100], Loss: 0.1319\n",
      "Epoch [22/100], Loss: 0.1011\n",
      "Epoch [23/100], Loss: 0.2410\n",
      "Epoch [24/100], Loss: 0.2493\n",
      "Epoch [25/100], Loss: 0.0629\n",
      "Epoch [26/100], Loss: 0.2464\n",
      "Epoch [27/100], Loss: 0.1466\n",
      "Epoch [28/100], Loss: 0.0835\n",
      "Epoch [29/100], Loss: 0.0921\n",
      "Epoch [30/100], Loss: 0.1615\n",
      "Epoch [31/100], Loss: 0.2600\n",
      "Epoch [32/100], Loss: 0.1327\n",
      "Epoch [33/100], Loss: 0.0839\n",
      "Epoch [34/100], Loss: 0.1618\n",
      "Epoch [35/100], Loss: 0.0697\n",
      "Epoch [36/100], Loss: 0.1903\n",
      "Epoch [37/100], Loss: 0.1216\n",
      "Epoch [38/100], Loss: 0.1748\n",
      "Epoch [39/100], Loss: 0.1144\n",
      "Epoch [40/100], Loss: 0.1578\n",
      "Epoch [41/100], Loss: 0.1565\n",
      "Epoch [42/100], Loss: 0.1379\n",
      "Epoch [43/100], Loss: 0.0846\n",
      "Epoch [44/100], Loss: 0.1073\n",
      "Epoch [45/100], Loss: 0.1223\n",
      "Epoch [46/100], Loss: 0.1264\n",
      "Epoch [47/100], Loss: 0.1073\n",
      "Epoch [48/100], Loss: 0.1446\n",
      "Epoch [49/100], Loss: 0.2617\n",
      "Epoch [50/100], Loss: 0.1592\n",
      "Epoch [51/100], Loss: 0.1699\n",
      "Epoch [52/100], Loss: 0.1567\n",
      "Epoch [53/100], Loss: 0.0922\n",
      "Epoch [54/100], Loss: 0.1666\n",
      "Epoch [55/100], Loss: 0.1139\n",
      "Epoch [56/100], Loss: 0.1472\n",
      "Epoch [57/100], Loss: 0.2116\n",
      "Epoch [58/100], Loss: 0.1985\n",
      "Epoch [59/100], Loss: 0.1461\n",
      "Epoch [60/100], Loss: 0.0812\n",
      "Epoch [61/100], Loss: 0.1711\n",
      "Epoch [62/100], Loss: 0.0790\n",
      "Epoch [63/100], Loss: 0.1143\n",
      "Epoch [64/100], Loss: 0.2064\n",
      "Epoch [65/100], Loss: 0.2443\n",
      "Epoch [66/100], Loss: 0.2060\n",
      "Epoch [67/100], Loss: 0.0856\n",
      "Epoch [68/100], Loss: 0.1582\n",
      "Epoch [69/100], Loss: 0.1697\n",
      "Epoch [70/100], Loss: 0.1334\n",
      "Epoch [71/100], Loss: 0.1138\n",
      "Epoch [72/100], Loss: 0.2304\n",
      "Epoch [73/100], Loss: 0.2366\n",
      "Epoch [74/100], Loss: 0.1721\n",
      "Epoch [75/100], Loss: 0.1414\n",
      "Epoch [76/100], Loss: 0.1538\n",
      "Epoch [77/100], Loss: 0.1094\n",
      "Epoch [78/100], Loss: 0.1956\n",
      "Epoch [79/100], Loss: 0.1089\n",
      "Epoch [80/100], Loss: 0.0824\n",
      "Epoch [81/100], Loss: 0.2101\n",
      "Epoch [82/100], Loss: 0.2822\n",
      "Epoch [83/100], Loss: 0.1453\n",
      "Epoch [84/100], Loss: 0.1630\n",
      "Epoch [85/100], Loss: 0.1574\n",
      "Epoch [86/100], Loss: 0.1144\n",
      "Epoch [87/100], Loss: 0.1600\n",
      "Epoch [88/100], Loss: 0.1313\n",
      "Epoch [89/100], Loss: 0.1645\n",
      "Epoch [90/100], Loss: 0.1224\n",
      "Epoch [91/100], Loss: 0.1198\n",
      "Epoch [92/100], Loss: 0.1427\n",
      "Epoch [93/100], Loss: 0.1562\n",
      "Epoch [94/100], Loss: 0.1257\n",
      "Epoch [95/100], Loss: 0.0896\n",
      "Epoch [96/100], Loss: 0.1448\n",
      "Epoch [97/100], Loss: 0.1325\n",
      "Epoch [98/100], Loss: 0.1294\n",
      "Epoch [99/100], Loss: 0.1811\n",
      "Epoch [100/100], Loss: 0.1212\n"
     ]
    }
   ],
   "source": [
    "normal_data = df[df['Fraud'] == 0]\n",
    "ae_model = train_ae_model(normal_data)\n"
   ]
  },
  {
   "cell_type": "code",
   "execution_count": 11,
   "metadata": {},
   "outputs": [
    {
     "name": "stdout",
     "output_type": "stream",
     "text": [
      "AutoEncoder(\n",
      "  (encoder): Sequential(\n",
      "    (0): Linear(in_features=8, out_features=64, bias=True)\n",
      "    (1): ReLU()\n",
      "    (2): Linear(in_features=64, out_features=32, bias=True)\n",
      "    (3): ReLU()\n",
      "  )\n",
      "  (decoder): Sequential(\n",
      "    (0): Linear(in_features=32, out_features=64, bias=True)\n",
      "    (1): ReLU()\n",
      "    (2): Linear(in_features=64, out_features=8, bias=True)\n",
      "  )\n",
      "  (out): Sigmoid()\n",
      ")\n"
     ]
    }
   ],
   "source": [
    "print(ae_model)"
   ]
  },
  {
   "cell_type": "markdown",
   "metadata": {},
   "source": [
    "# Evaluacion del modelo"
   ]
  },
  {
   "cell_type": "code",
   "execution_count": 12,
   "metadata": {},
   "outputs": [],
   "source": [
    "def get_reconstruction_errors(model, data_tensor):\n",
    "    model.eval()\n",
    "    with torch.no_grad():\n",
    "        reconstructed = model(data_tensor)\n",
    "        errors = torch.mean((reconstructed - data_tensor) ** 2, dim=1)\n",
    "    return errors.numpy()"
   ]
  },
  {
   "cell_type": "code",
   "execution_count": 13,
   "metadata": {},
   "outputs": [],
   "source": [
    "def evaluate_results(y_true, y_pred, errors, dataset_name=\"Validación\"):\n",
    "    print(f\"\\n=== {dataset_name.upper()} ===\")\n",
    "    print(classification_report(y_true, y_pred, zero_division=0))\n",
    "    print(\"ROC AUC :\", roc_auc_score(y_true, errors))\n",
    "    print(\"Matriz de Confusión:\")\n",
    "    print(confusion_matrix(y_true, y_pred))"
   ]
  },
  {
   "cell_type": "code",
   "execution_count": 14,
   "metadata": {},
   "outputs": [],
   "source": [
    "X_train_tensor = torch.tensor(X_train[features_names].values, dtype=torch.float32)\n",
    "X_valid_tensor = torch.tensor(X_valid[features_names].values, dtype=torch.float32)\n",
    "X_test_tensor  = torch.tensor(X_test[features_names].values,  dtype=torch.float32)\n",
    "\n",
    "errors_train = get_reconstruction_errors(ae_model, X_train_tensor)\n",
    "errors_valid = get_reconstruction_errors(ae_model, X_valid_tensor)\n",
    "errors_test  = get_reconstruction_errors(ae_model, X_test_tensor)"
   ]
  },
  {
   "cell_type": "code",
   "execution_count": 15,
   "metadata": {},
   "outputs": [],
   "source": [
    "fpr_train, tpr_train, thresholds_train = roc_curve(y_train, errors_train)\n",
    "fpr_valid, tpr_valid, thresholds_valid = roc_curve(y_valid, errors_valid)\n",
    "fpr_test,  tpr_test,  thresholds_test = roc_curve(y_test,  errors_test)"
   ]
  },
  {
   "cell_type": "code",
   "execution_count": 16,
   "metadata": {},
   "outputs": [],
   "source": [
    "optimal_idx_valid = (tpr_valid - fpr_valid).argmax()\n",
    "optimal_idx_test = (tpr_test - fpr_test).argmax()\n",
    "\n",
    "threshold_valid = thresholds_valid[optimal_idx_valid]\n",
    "threshold_test = thresholds_test[optimal_idx_test]"
   ]
  },
  {
   "cell_type": "code",
   "execution_count": 17,
   "metadata": {},
   "outputs": [],
   "source": [
    "y_valid_pred = (errors_valid > threshold_valid).astype(int)\n",
    "y_test_pred  = (errors_test > threshold_test).astype(int)"
   ]
  },
  {
   "cell_type": "code",
   "execution_count": 18,
   "metadata": {},
   "outputs": [
    {
     "name": "stdout",
     "output_type": "stream",
     "text": [
      "\n",
      "=== VALIDACION ===\n",
      "              precision    recall  f1-score   support\n",
      "\n",
      "           0       1.00      0.77      0.87      1471\n",
      "           1       0.07      0.90      0.13        29\n",
      "\n",
      "    accuracy                           0.78      1500\n",
      "   macro avg       0.53      0.83      0.50      1500\n",
      "weighted avg       0.98      0.78      0.86      1500\n",
      "\n",
      "ROC AUC : 0.9297451885885746\n",
      "Matriz de Confusión:\n",
      "[[1137  334]\n",
      " [   3   26]]\n",
      "\n",
      "=== TEST ===\n",
      "              precision    recall  f1-score   support\n",
      "\n",
      "           0       1.00      0.89      0.94      1471\n",
      "           1       0.13      0.83      0.22        29\n",
      "\n",
      "    accuracy                           0.89      1500\n",
      "   macro avg       0.56      0.86      0.58      1500\n",
      "weighted avg       0.98      0.89      0.93      1500\n",
      "\n",
      "ROC AUC : 0.9318783843971963\n",
      "Matriz de Confusión:\n",
      "[[1310  161]\n",
      " [   5   24]]\n"
     ]
    }
   ],
   "source": [
    "evaluate_results(y_valid, y_valid_pred, errors_valid, \"VALIDACION\")\n",
    "evaluate_results(y_test,  y_test_pred,  errors_test,  \"TEST\")"
   ]
  },
  {
   "cell_type": "code",
   "execution_count": 19,
   "metadata": {},
   "outputs": [
    {
     "data": {
      "text/plain": [
       "<matplotlib.legend.Legend at 0x14e1a3da900>"
      ]
     },
     "execution_count": 19,
     "metadata": {},
     "output_type": "execute_result"
    },
    {
     "data": {
      "image/png": "[encoded data removed]",
      "text/plain": [
       "<Figure size 640x480 with 1 Axes>"
      ]
     },
     "metadata": {},
     "output_type": "display_data"
    }
   ],
   "source": [
    "plt.plot(fpr_train, tpr_train, linestyle='--', label='Train')\n",
    "plt.plot(fpr_valid, tpr_valid, linestyle='-.', label='Valid')\n",
    "plt.plot(fpr_test,  tpr_test,  linestyle='-',  label='Test')\n",
    "\n",
    "plt.xlabel('False Positive Rate')\n",
    "plt.ylabel('True Positive Rate')\n",
    "plt.legend()"
   ]
  },
  {
   "cell_type": "code",
   "execution_count": null,
   "metadata": {},
   "outputs": [],
   "source": []
  },
  {
   "cell_type": "code",
   "execution_count": null,
   "metadata": {},
   "outputs": [],
   "source": []
  }
 ],
 "metadata": {
  "kernelspec": {
   "display_name": "prueba1",
   "language": "python",
   "name": "prueba1"
  },
  "language_info": {
   "codemirror_mode": {
    "name": "ipython",
    "version": 3
   },
   "file_extension": ".py",
   "mimetype": "text/x-python",
   "name": "python",
   "nbconvert_exporter": "python",
   "pygments_lexer": "ipython3",
   "version": "3.12.9"
  }
 },
 "nbformat": 4,
 "nbformat_minor": 2
}
